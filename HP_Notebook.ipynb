{
 "cells": [
  {
   "cell_type": "markdown",
   "metadata": {},
   "source": [
    "# Semester Project Notebook - EPFL HP"
   ]
  },
  {
   "cell_type": "code",
   "execution_count": 2,
   "metadata": {},
   "outputs": [],
   "source": [
    "# Libraries\n",
    "import pandas as pd\n",
    "import numpy as np"
   ]
  },
  {
   "cell_type": "markdown",
   "metadata": {},
   "source": [
    "# 01 - Fluid selection\n",
    "\n",
    "### Legislation: banned fluids (Montreal Protocol, OFEV)\n",
    "Fluid with ozone depletion potention, global warming potential and stable in the atmosphere.\n",
    "- HCFC \n",
    "- HCFO\n",
    "- CFC \n",
    "- HFC \n",
    "\n",
    "### Environmental Criteria\n",
    "- GWPmax = 400 ?\n",
    "- ODPmax = 0\n",
    "\n",
    "### Operating Criteria\n",
    "- Tcrit,min  = 90°C (to avoid entering the supercritical domain)\n",
    "- Teb,max = 10°C (if Teb too high, very low pressure required for evaporation)\n",
    "\n",
    "\n",
    "### Fluid screening\n",
    "Selected for the study: Fluids figuring in the (non-exhaustive) OFEV's list of autorized fluids:\n",
    "- R-290 (propane, HC)\n",
    "- R-600 (butane, HC)\n",
    "- R-600a (isobutane, HC)\n",
    "- R-1270 (propylène, HO)\n",
    "- R-1234yf (HFO)\n",
    "- R-1234ze (HFO)\n",
    "- R-717 (ammonia, N)\n",
    "\n",
    "Not selected for the study: Fluids not in the list:\n",
    "- R-630 (methylamine, HC)\n",
    "- R-40 (HCC)\n",
    "- R-1140 (HCO)\n",
    "- R-764 (sulfure dioxide, N)\n",
    "\n",
    "### Physical properties for unknown fluids in Belsim VALI (R-1234yf, R-1234ze)\n",
    "- Thermodynamic models: VIDEAL/LIDEAL or Soave/Peng-Robinson\n",
    "- Physical properties required: critical temperature, critical pressure, boiling curve coefficients, ascentric factor"
   ]
  },
  {
   "cell_type": "code",
   "execution_count": 16,
   "metadata": {},
   "outputs": [
    {
     "data": {
      "text/html": [
       "<div>\n",
       "<style scoped>\n",
       "    .dataframe tbody tr th:only-of-type {\n",
       "        vertical-align: middle;\n",
       "    }\n",
       "\n",
       "    .dataframe tbody tr th {\n",
       "        vertical-align: top;\n",
       "    }\n",
       "\n",
       "    .dataframe thead th {\n",
       "        text-align: right;\n",
       "    }\n",
       "</style>\n",
       "<table border=\"1\" class=\"dataframe\">\n",
       "  <thead>\n",
       "    <tr style=\"text-align: right;\">\n",
       "      <th></th>\n",
       "      <th>Formula</th>\n",
       "      <th>Tcrit [K]</th>\n",
       "      <th>Pcrit [bar]</th>\n",
       "      <th>PVAP</th>\n",
       "      <th>omega</th>\n",
       "    </tr>\n",
       "    <tr>\n",
       "      <th>ASHRAE</th>\n",
       "      <th></th>\n",
       "      <th></th>\n",
       "      <th></th>\n",
       "      <th></th>\n",
       "      <th></th>\n",
       "    </tr>\n",
       "  </thead>\n",
       "  <tbody>\n",
       "    <tr>\n",
       "      <th>R-1234yf</th>\n",
       "      <td>C3F4H2</td>\n",
       "      <td>367.85</td>\n",
       "      <td>33.822</td>\n",
       "      <td>?</td>\n",
       "      <td>0.276</td>\n",
       "    </tr>\n",
       "    <tr>\n",
       "      <th>R-1234ze</th>\n",
       "      <td>C3F4H2</td>\n",
       "      <td>423.27</td>\n",
       "      <td>35.349</td>\n",
       "      <td>?</td>\n",
       "      <td>0.326</td>\n",
       "    </tr>\n",
       "  </tbody>\n",
       "</table>\n",
       "</div>"
      ],
      "text/plain": [
       "         Formula  Tcrit [K]  Pcrit [bar] PVAP  omega\n",
       "ASHRAE                                              \n",
       "R-1234yf  C3F4H2     367.85       33.822    ?  0.276\n",
       "R-1234ze  C3F4H2     423.27       35.349    ?  0.326"
      ]
     },
     "execution_count": 16,
     "metadata": {},
     "output_type": "execute_result"
    }
   ],
   "source": [
    "properties = {'ASHRAE': ['R-1234yf','R-1234ze'], 'Formula':['C3F4H2','C3F4H2'], 'Tcrit [K]':[367.85,423.27], 'Pcrit [bar]':[33.822, 35.349], 'PVAP':['?','?'], 'omega':[0.276,0.326]}\n",
    "properties = pd.DataFrame(properties)\n",
    "properties = properties.set_index('ASHRAE')\n",
    "properties"
   ]
  },
  {
   "cell_type": "markdown",
   "metadata": {},
   "source": [
    "# 02 - Heating demand"
   ]
  },
  {
   "cell_type": "markdown",
   "metadata": {},
   "source": [
    "Monthly mean heating demand during operating hours for the two heating loops (lowT (50°C) and mediumT (65°C)) of EPFL's heating system. "
   ]
  },
  {
   "cell_type": "code",
   "execution_count": 35,
   "metadata": {},
   "outputs": [
    {
     "data": {
      "text/html": [
       "<div>\n",
       "<style scoped>\n",
       "    .dataframe tbody tr th:only-of-type {\n",
       "        vertical-align: middle;\n",
       "    }\n",
       "\n",
       "    .dataframe tbody tr th {\n",
       "        vertical-align: top;\n",
       "    }\n",
       "\n",
       "    .dataframe thead th {\n",
       "        text-align: right;\n",
       "    }\n",
       "</style>\n",
       "<table border=\"1\" class=\"dataframe\">\n",
       "  <thead>\n",
       "    <tr style=\"text-align: right;\">\n",
       "      <th></th>\n",
       "      <th>MT [kW]</th>\n",
       "      <th>LT [kW]</th>\n",
       "    </tr>\n",
       "    <tr>\n",
       "      <th>Month</th>\n",
       "      <th></th>\n",
       "      <th></th>\n",
       "    </tr>\n",
       "  </thead>\n",
       "  <tbody>\n",
       "    <tr>\n",
       "      <th>1</th>\n",
       "      <td>7395.670705</td>\n",
       "      <td>4318.682087</td>\n",
       "    </tr>\n",
       "    <tr>\n",
       "      <th>2</th>\n",
       "      <td>5534.986003</td>\n",
       "      <td>3283.383266</td>\n",
       "    </tr>\n",
       "    <tr>\n",
       "      <th>3</th>\n",
       "      <td>2904.392606</td>\n",
       "      <td>1811.057933</td>\n",
       "    </tr>\n",
       "    <tr>\n",
       "      <th>4</th>\n",
       "      <td>43.868802</td>\n",
       "      <td>192.982501</td>\n",
       "    </tr>\n",
       "    <tr>\n",
       "      <th>5</th>\n",
       "      <td>0.000000</td>\n",
       "      <td>0.000000</td>\n",
       "    </tr>\n",
       "    <tr>\n",
       "      <th>6</th>\n",
       "      <td>0.000000</td>\n",
       "      <td>0.000000</td>\n",
       "    </tr>\n",
       "    <tr>\n",
       "      <th>7</th>\n",
       "      <td>0.000000</td>\n",
       "      <td>0.000000</td>\n",
       "    </tr>\n",
       "    <tr>\n",
       "      <th>8</th>\n",
       "      <td>0.000000</td>\n",
       "      <td>0.000000</td>\n",
       "    </tr>\n",
       "    <tr>\n",
       "      <th>9</th>\n",
       "      <td>0.000000</td>\n",
       "      <td>36.520003</td>\n",
       "    </tr>\n",
       "    <tr>\n",
       "      <th>10</th>\n",
       "      <td>739.134273</td>\n",
       "      <td>543.289206</td>\n",
       "    </tr>\n",
       "    <tr>\n",
       "      <th>11</th>\n",
       "      <td>4411.758359</td>\n",
       "      <td>2635.527426</td>\n",
       "    </tr>\n",
       "    <tr>\n",
       "      <th>12</th>\n",
       "      <td>6877.256243</td>\n",
       "      <td>4006.975678</td>\n",
       "    </tr>\n",
       "  </tbody>\n",
       "</table>\n",
       "</div>"
      ],
      "text/plain": [
       "           MT [kW]      LT [kW]\n",
       "Month                          \n",
       "1      7395.670705  4318.682087\n",
       "2      5534.986003  3283.383266\n",
       "3      2904.392606  1811.057933\n",
       "4        43.868802   192.982501\n",
       "5         0.000000     0.000000\n",
       "6         0.000000     0.000000\n",
       "7         0.000000     0.000000\n",
       "8         0.000000     0.000000\n",
       "9         0.000000    36.520003\n",
       "10      739.134273   543.289206\n",
       "11     4411.758359  2635.527426\n",
       "12     6877.256243  4006.975678"
      ]
     },
     "execution_count": 35,
     "metadata": {},
     "output_type": "execute_result"
    }
   ],
   "source": [
    "heating_demand = pd.read_csv('Data/heating_monthly.csv', sep=';')\n",
    "heating_demand = heating_demand.set_index('Month')\n",
    "heating_demand['MT'] = heating_demand['MT'].apply(lambda x: x/1000 if x > 0 else 0)\n",
    "heating_demand['LT'] = heating_demand['LT'].apply(lambda x: x/1000 if x > 0 else 0)\n",
    "heating_demand.rename(columns={'MT':'MT [kW]', 'LT':'LT [kW]'})"
   ]
  },
  {
   "cell_type": "markdown",
   "metadata": {},
   "source": [
    "# 03 - Optimal condensation temperature (HP6_T)"
   ]
  },
  {
   "cell_type": "markdown",
   "metadata": {},
   "source": [
    "### Working assumptions\n",
    "- HP design optimized for colder working conditions (Q_ cond = 6 MW)"
   ]
  },
  {
   "cell_type": "code",
   "execution_count": null,
   "metadata": {},
   "outputs": [],
   "source": []
  }
 ],
 "metadata": {
  "kernelspec": {
   "display_name": "Python 3",
   "language": "python",
   "name": "python3"
  },
  "language_info": {
   "codemirror_mode": {
    "name": "ipython",
    "version": 3
   },
   "file_extension": ".py",
   "mimetype": "text/x-python",
   "name": "python",
   "nbconvert_exporter": "python",
   "pygments_lexer": "ipython3",
   "version": "3.8.3"
  }
 },
 "nbformat": 4,
 "nbformat_minor": 4
}
